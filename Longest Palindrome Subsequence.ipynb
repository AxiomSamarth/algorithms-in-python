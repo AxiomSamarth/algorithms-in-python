{
 "cells": [
  {
   "cell_type": "code",
   "execution_count": 9,
   "metadata": {},
   "outputs": [],
   "source": [
    "def longest_palindrome_subsequence(arr, i, j):\n",
    "\n",
    "    # if there is only one character then that is by default a palindrome.\n",
    "    # Hence, return 1\n",
    "    if i == j:\n",
    "        return 1\n",
    "\n",
    "    # if there are two characters and both are same then return 2.\n",
    "    # It is a palindrome.\n",
    "    if arr[i] == arr[j] and i + 1 == j:\n",
    "        return 2\n",
    "\n",
    "    # else, if first and last term are same then it is palindrome between those\n",
    "    # two characters + 2\n",
    "    if arr[i] == arr[j]:\n",
    "        return longest_palindrome_subsequence(arr, i+1, j-1) + 2\n",
    "\n",
    "    # if first and last character do not match then\n",
    "    return max(longest_palindrome_subsequence(arr, i+1, j),\n",
    "               longest_palindrome_subsequence(arr, i, j-1))\n"
   ]
  },
  {
   "cell_type": "code",
   "execution_count": 16,
   "metadata": {},
   "outputs": [
    {
     "name": "stdout",
     "output_type": "stream",
     "text": [
      "The length of the LPS is 5\n"
     ]
    }
   ],
   "source": [
    "if __name__ == '__main__':\n",
    "    \n",
    "    seq = \"GEEKSFORGEEKS\"\n",
    "    n = len(seq) \n",
    "    print(\"The length of the LPS is\",  \n",
    "                  longest_palindrome_subsequence(seq, 0, n - 1)) "
   ]
  },
  {
   "cell_type": "code",
   "execution_count": null,
   "metadata": {},
   "outputs": [],
   "source": []
  }
 ],
 "metadata": {
  "kernelspec": {
   "display_name": "Python 3",
   "language": "python",
   "name": "python3"
  },
  "language_info": {
   "codemirror_mode": {
    "name": "ipython",
    "version": 3
   },
   "file_extension": ".py",
   "mimetype": "text/x-python",
   "name": "python",
   "nbconvert_exporter": "python",
   "pygments_lexer": "ipython3",
   "version": "3.7.3"
  }
 },
 "nbformat": 4,
 "nbformat_minor": 4
}
