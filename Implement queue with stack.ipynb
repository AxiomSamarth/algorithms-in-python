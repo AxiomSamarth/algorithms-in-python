{
 "cells": [
  {
   "cell_type": "code",
   "execution_count": 35,
   "metadata": {},
   "outputs": [],
   "source": [
    "# define a class queue and its associated methods enqueue, dequeue and display queue\n",
    "class Queue:\n",
    "    \n",
    "    # constructor for the class to initialize\n",
    "    def __init__(self):\n",
    "        self._stack_1 = list()\n",
    "        \n",
    "    # implement enqueue but with stack operations\n",
    "    def _enqueue(self, data):\n",
    "        self._stack_1.append(data)\n",
    "    \n",
    "    # implement dequeue but with stack operations.\n",
    "    # you might have to use two stacks for the purpose\n",
    "    def _dequeue(self):\n",
    "        stack_2 = list()\n",
    "        while self._stack_1:\n",
    "            stack_2.append(self._stack_1.pop())\n",
    "        \n",
    "        top = stack_2.pop()\n",
    "        print('\\n',top)\n",
    "        \n",
    "        while stack_2:\n",
    "            self._stack_1.append(stack_2.pop())\n",
    "        \n",
    "    # display the queue as it is\n",
    "    def _display_queue(self):\n",
    "        for item in self._stack_1:\n",
    "            print(item, end=' ')\n",
    "        "
   ]
  },
  {
   "cell_type": "code",
   "execution_count": 37,
   "metadata": {},
   "outputs": [
    {
     "name": "stdout",
     "output_type": "stream",
     "text": [
      "10 20 30 \n",
      " 10\n",
      "\n",
      " 20\n",
      "30 "
     ]
    }
   ],
   "source": [
    "# create the main namespace for unit testing the modules\n",
    "if __name__ == '__main__':\n",
    "    \n",
    "    queue = Queue()\n",
    "    \n",
    "    queue._enqueue(10)\n",
    "    queue._enqueue(20)\n",
    "    queue._enqueue(30)\n",
    "    \n",
    "    queue._display_queue()\n",
    "    \n",
    "    queue._dequeue()\n",
    "    queue._dequeue()\n",
    "    \n",
    "    queue._display_queue()"
   ]
  },
  {
   "cell_type": "code",
   "execution_count": null,
   "metadata": {},
   "outputs": [],
   "source": []
  }
 ],
 "metadata": {
  "kernelspec": {
   "display_name": "Python 3",
   "language": "python",
   "name": "python3"
  },
  "language_info": {
   "codemirror_mode": {
    "name": "ipython",
    "version": 3
   },
   "file_extension": ".py",
   "mimetype": "text/x-python",
   "name": "python",
   "nbconvert_exporter": "python",
   "pygments_lexer": "ipython3",
   "version": "3.7.3"
  }
 },
 "nbformat": 4,
 "nbformat_minor": 4
}
