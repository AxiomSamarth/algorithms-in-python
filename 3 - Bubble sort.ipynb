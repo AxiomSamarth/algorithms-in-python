{
 "cells": [
  {
   "cell_type": "code",
   "execution_count": 6,
   "metadata": {},
   "outputs": [],
   "source": [
    "def bubble_sort(numbers):\n",
    "    \n",
    "    for i in range(len(numbers)):\n",
    "        for j in range(len(numbers)-1):\n",
    "            if numbers[j] > numbers[j+1]:\n",
    "                numbers[j], numbers[j+1] = numbers[j+1], numbers[j]\n",
    "    \n",
    "    #return numbers\n",
    "    "
   ]
  },
  {
   "cell_type": "code",
   "execution_count": 8,
   "metadata": {},
   "outputs": [
    {
     "name": "stdout",
     "output_type": "stream",
     "text": [
      "List of unsorted numbers -  [81, 9, 77, 51, 8, 59, 15, 3, 70, 71]\n",
      "\n",
      "List of sorted numbers -  [3, 8, 9, 15, 51, 59, 70, 71, 77, 81]\n"
     ]
    }
   ],
   "source": [
    "if __name__ == \"__main__\":\n",
    "    \n",
    "    import random\n",
    "    \n",
    "    numbers = [random.randint(0,100) for i in range(10)]\n",
    "    \n",
    "    print(\"List of unsorted numbers - \", numbers)\n",
    "    \n",
    "    bubble_sort(numbers)\n",
    "    \n",
    "    print(\"\\nList of sorted numbers - \",numbers)"
   ]
  }
 ],
 "metadata": {
  "kernelspec": {
   "display_name": "Python 3",
   "language": "python",
   "name": "python3"
  },
  "language_info": {
   "codemirror_mode": {
    "name": "ipython",
    "version": 3
   },
   "file_extension": ".py",
   "mimetype": "text/x-python",
   "name": "python",
   "nbconvert_exporter": "python",
   "pygments_lexer": "ipython3",
   "version": "3.7.3"
  }
 },
 "nbformat": 4,
 "nbformat_minor": 4
}
