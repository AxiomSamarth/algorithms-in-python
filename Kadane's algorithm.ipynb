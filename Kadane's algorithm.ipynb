{
 "cells": [
  {
   "cell_type": "markdown",
   "metadata": {},
   "source": [
    "Given an array arr of N integers. Find the contiguous sub-array with maximum sum."
   ]
  },
  {
   "cell_type": "code",
   "execution_count": 8,
   "metadata": {},
   "outputs": [],
   "source": [
    "def kadane(numbers):\n",
    "    max_so_far = float('-inf')\n",
    "    max_ending = 0\n",
    "    \n",
    "    for number in numbers:\n",
    "        max_ending += number\n",
    "        if max_so_far < max_ending:\n",
    "            max_so_far = max_ending\n",
    "        if max_ending < 0:\n",
    "            max_ending = 0\n",
    "    \n",
    "    return max_ending"
   ]
  },
  {
   "cell_type": "code",
   "execution_count": 15,
   "metadata": {},
   "outputs": [
    {
     "name": "stdout",
     "output_type": "stream",
     "text": [
      "[-7, -8, 9, 10, 5]\n",
      "24\n"
     ]
    }
   ],
   "source": [
    "if __name__ == '__main__':\n",
    "    \n",
    "    import random\n",
    "    \n",
    "    numbers = [random.randint(-10, 10) for i in range(5)]\n",
    "    print(numbers)\n",
    "    \n",
    "    print(kadane(numbers))"
   ]
  },
  {
   "cell_type": "code",
   "execution_count": null,
   "metadata": {},
   "outputs": [],
   "source": []
  }
 ],
 "metadata": {
  "kernelspec": {
   "display_name": "Python 3",
   "language": "python",
   "name": "python3"
  },
  "language_info": {
   "codemirror_mode": {
    "name": "ipython",
    "version": 3
   },
   "file_extension": ".py",
   "mimetype": "text/x-python",
   "name": "python",
   "nbconvert_exporter": "python",
   "pygments_lexer": "ipython3",
   "version": "3.7.3"
  }
 },
 "nbformat": 4,
 "nbformat_minor": 4
}
