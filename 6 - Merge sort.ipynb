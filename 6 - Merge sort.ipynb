{
 "cells": [
  {
   "cell_type": "code",
   "execution_count": 1,
   "metadata": {},
   "outputs": [],
   "source": [
    "def mergesort(numbers):\n",
    "    \n",
    "    if len(numbers) > 1:\n",
    "        mid = len(numbers)//2\n",
    "        left_array = numbers[:mid]\n",
    "        right_array = numbers[mid:]\n",
    "        \n",
    "        mergesort(left_array)\n",
    "        mergesort(right_array)\n",
    "        \n",
    "        i = j = k = 0\n",
    "        \n",
    "        while i<len(left_array) and j<len(right_array):\n",
    "            if left_array[i] < right_array[j]:\n",
    "                numbers[k] = left_array[i]\n",
    "                i+=1\n",
    "            else:\n",
    "                numbers[k] = right_array[j]\n",
    "                j+=1\n",
    "            k+=1\n",
    "        \n",
    "        while i<len(left_array):\n",
    "            numbers[k] = left_array[i]\n",
    "            i+=1\n",
    "            k+=1\n",
    "        \n",
    "        while j<len(right_array):\n",
    "            numbers[k] = right_array[j]\n",
    "            j+=1\n",
    "            k+=1"
   ]
  },
  {
   "cell_type": "code",
   "execution_count": 2,
   "metadata": {},
   "outputs": [
    {
     "name": "stdout",
     "output_type": "stream",
     "text": [
      "Numbers before sorting [22, 48, 70, 39, 99, 10, 0, 93, 65, 29]\n",
      "\n",
      "Numbers after sorting [0, 10, 22, 29, 39, 48, 65, 70, 93, 99]\n"
     ]
    }
   ],
   "source": [
    "if __name__ == '__main__':\n",
    "    \n",
    "    import random\n",
    "    \n",
    "    numbers = [random.randint(0, 100) for i in range(10)]\n",
    "    \n",
    "    print(\"Numbers before sorting\", numbers)\n",
    "    \n",
    "    mergesort(numbers)\n",
    "    \n",
    "    print(\"\\nNumbers after sorting\", numbers)"
   ]
  },
  {
   "cell_type": "code",
   "execution_count": null,
   "metadata": {},
   "outputs": [],
   "source": []
  }
 ],
 "metadata": {
  "kernelspec": {
   "display_name": "Python 3",
   "language": "python",
   "name": "python3"
  },
  "language_info": {
   "codemirror_mode": {
    "name": "ipython",
    "version": 3
   },
   "file_extension": ".py",
   "mimetype": "text/x-python",
   "name": "python",
   "nbconvert_exporter": "python",
   "pygments_lexer": "ipython3",
   "version": "3.7.3"
  }
 },
 "nbformat": 4,
 "nbformat_minor": 4
}
