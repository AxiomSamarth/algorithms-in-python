{
 "cells": [
  {
   "cell_type": "markdown",
   "metadata": {},
   "source": [
    "<h1>Binary Search</h1>\n",
    "<p>Binary search will consider a list of items, sorts them and searches for an item in that half of the list where the item falls based on its comparison with the list item in the middle of the list</p>"
   ]
  },
  {
   "cell_type": "code",
   "execution_count": 28,
   "metadata": {},
   "outputs": [],
   "source": [
    "# define binary search algorithm to accept the list of numbers and the data item to search\n",
    "def binary_search(numbers, data):\n",
    "    \n",
    "    # sort the numbers using sorted inbuilt function\n",
    "    numbers = sorted(numbers)\n",
    "    print(numbers)\n",
    "    \n",
    "    # assign proper values for left most index, right most index and the middle index in the \n",
    "    # search scope\n",
    "    left = 0\n",
    "    right = len(numbers)-1    \n",
    "    middle = left + (right-left)//2\n",
    "    \n",
    "    # run the loop until left index is not greater than right index\n",
    "    while left <= right:\n",
    "        \n",
    "        # if the data to be searched is equal to the list item in the middle index, search is success\n",
    "        if data == numbers[middle]:\n",
    "            print(data, \"found\")\n",
    "            return\n",
    "        \n",
    "        # else if the data is greater than the list item at the middle index, then change left index \n",
    "        # to index next to middle index\n",
    "        elif data > numbers[middle]:\n",
    "            left = middle + 1\n",
    "            \n",
    "        # else change the right index to the index before the middle index\n",
    "        else:\n",
    "            right = middle -1\n",
    "        \n",
    "        # compute the middle index again\n",
    "        middle = left + (right-left)//2\n",
    "        \n",
    "    # if the control come here out of the loop then search has been unsuccessful\n",
    "    print(data, \"not found\")"
   ]
  },
  {
   "cell_type": "code",
   "execution_count": 29,
   "metadata": {},
   "outputs": [
    {
     "name": "stdout",
     "output_type": "stream",
     "text": [
      "[17, 18, 26, 28, 38, 41, 55, 74, 79, 86]\n",
      "55 found\n"
     ]
    }
   ],
   "source": [
    "# define the main namespace to unit test your module\n",
    "if __name__ == '__main__':\n",
    "    \n",
    "    # create a list of numbers and data to test\n",
    "    numbers = [79, 86, 55, 18, 74, 17, 41, 38, 26, 28]\n",
    "    data = 55\n",
    "    \n",
    "    # function call\n",
    "    binary_search(numbers, data)"
   ]
  }
 ],
 "metadata": {
  "kernelspec": {
   "display_name": "Python 3",
   "language": "python",
   "name": "python3"
  },
  "language_info": {
   "codemirror_mode": {
    "name": "ipython",
    "version": 3
   },
   "file_extension": ".py",
   "mimetype": "text/x-python",
   "name": "python",
   "nbconvert_exporter": "python",
   "pygments_lexer": "ipython3",
   "version": "3.7.3"
  }
 },
 "nbformat": 4,
 "nbformat_minor": 4
}
