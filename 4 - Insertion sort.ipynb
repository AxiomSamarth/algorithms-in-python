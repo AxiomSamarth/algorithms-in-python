{
 "cells": [
  {
   "cell_type": "code",
   "execution_count": 1,
   "metadata": {},
   "outputs": [],
   "source": [
    "def insertion_sort(numbers):\n",
    "    \n",
    "    for i in range(len(numbers)):\n",
    "        \n",
    "        key = numbers[i]\n",
    "        j = i-1\n",
    "        \n",
    "        while j>=0 and key < numbers[j]:\n",
    "            numbers[j+1] = numbers[j]\n",
    "            j -= 1\n",
    "            \n",
    "        numbers[j+1] = key"
   ]
  },
  {
   "cell_type": "code",
   "execution_count": 2,
   "metadata": {},
   "outputs": [
    {
     "name": "stdout",
     "output_type": "stream",
     "text": [
      "[6, 11, 18, 49, 49, 55, 61, 63, 63, 76]\n"
     ]
    }
   ],
   "source": [
    "if __name__ == '__main__':\n",
    "    \n",
    "    import random \n",
    "    \n",
    "    numbers = [random.randint(0, 100) for i in range(10)]\n",
    "    \n",
    "    insertion_sort(numbers)\n",
    "    \n",
    "    print(numbers)"
   ]
  }
 ],
 "metadata": {
  "kernelspec": {
   "display_name": "Python 3",
   "language": "python",
   "name": "python3"
  },
  "language_info": {
   "codemirror_mode": {
    "name": "ipython",
    "version": 3
   },
   "file_extension": ".py",
   "mimetype": "text/x-python",
   "name": "python",
   "nbconvert_exporter": "python",
   "pygments_lexer": "ipython3",
   "version": "3.7.3"
  }
 },
 "nbformat": 4,
 "nbformat_minor": 4
}
