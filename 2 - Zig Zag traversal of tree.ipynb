{
 "cells": [
  {
   "cell_type": "code",
   "execution_count": 15,
   "metadata": {},
   "outputs": [],
   "source": [
    "# define a user defined class Node that represents the node in the tree\n",
    "class Node:\n",
    "    \n",
    "    # this is the constructor for the class Node with data, left and right references\n",
    "    # it is to be noted that the left and right children are sub trees too\n",
    "    def __init__(self, data):\n",
    "        self._data = data\n",
    "        self._left = Tree()\n",
    "        self._right = Tree()"
   ]
  },
  {
   "cell_type": "code",
   "execution_count": 12,
   "metadata": {},
   "outputs": [],
   "source": [
    "# define the class Tree and its associated methods and attributes\n",
    "class Tree:\n",
    "    \n",
    "    def __init__(self):\n",
    "        self._root = None\n",
    "        \n",
    "    def _add_node(self, data):\n",
    "        if self._root is None:\n",
    "            self._root = Node(data)\n",
    "        else:\n",
    "            queue = [self._root]\n",
    "            while queue:\n",
    "                parent = queue[0]\n",
    "                queue.remove(parent)\n",
    "                \n",
    "                if parent._left._root is None:\n",
    "                    parent._left._root = Node(data)\n",
    "                    return\n",
    "                \n",
    "                elif parent._right._root is None:\n",
    "                    parent._right._root = Node(data)\n",
    "                    return\n",
    "                \n",
    "                else:\n",
    "                    queue.append(parent._left._root)\n",
    "                    queue.append(parent._right._root)\n",
    "                    \n",
    "    def _display(self):\n",
    "        \n",
    "        if self._root is None:\n",
    "            print(\"The binary tree is empty\")\n",
    "            return\n",
    "        else:\n",
    "            current_level = []\n",
    "            next_level = []\n",
    "            left_to_right = True\n",
    "            \n",
    "            current_level = [self._root]\n",
    "            while current_level:\n",
    "                \n",
    "                parent = current_level.pop()\n",
    "                print(parent._data, end=' ')\n",
    "                \n",
    "                if left_to_right:\n",
    "                    if parent._left._root:\n",
    "                        next_level.append(parent._left._root)\n",
    "                    if parent._right._root:\n",
    "                        next_level.append(parent._right._root)\n",
    "                        \n",
    "                else:\n",
    "                    if parent._right._root:\n",
    "                        next_level.append(parent._right._root)\n",
    "                    if parent._left._root:\n",
    "                        next_level.append(parent._left._root)\n",
    "                        \n",
    "                if len(current_level) == 0:\n",
    "                    left_to_right = not left_to_right\n",
    "                    current_level, next_level = next_level, current_level\n",
    "                    \n",
    "                \n",
    "            "
   ]
  },
  {
   "cell_type": "code",
   "execution_count": 14,
   "metadata": {},
   "outputs": [
    {
     "name": "stdout",
     "output_type": "stream",
     "text": [
      "\n",
      "\n",
      "Nodes in zig zag fashion\n",
      "42 98 28 38 43 94 71 "
     ]
    }
   ],
   "source": [
    "# define the main namespace to unit test the code\n",
    "if __name__ == '__main__':\n",
    "    \n",
    "    # create a list of numbers \n",
    "    numbers = [42, 28, 98, 38, 43, 94, 71]\n",
    "    \n",
    "    # create an object of Tree\n",
    "    tree = Tree()\n",
    "    \n",
    "    # iterate through the numbers and build the binary tree\n",
    "    for number in numbers:\n",
    "        tree._add_node(number)\n",
    "    \n",
    "    # display the tree in zig zag fashion\n",
    "    print(\"\\n\\nNodes in zig zag fashion\")\n",
    "    tree._display()"
   ]
  },
  {
   "cell_type": "code",
   "execution_count": null,
   "metadata": {},
   "outputs": [],
   "source": []
  }
 ],
 "metadata": {
  "kernelspec": {
   "display_name": "Python 3",
   "language": "python",
   "name": "python3"
  },
  "language_info": {
   "codemirror_mode": {
    "name": "ipython",
    "version": 3
   },
   "file_extension": ".py",
   "mimetype": "text/x-python",
   "name": "python",
   "nbconvert_exporter": "python",
   "pygments_lexer": "ipython3",
   "version": "3.7.3"
  }
 },
 "nbformat": 4,
 "nbformat_minor": 4
}
