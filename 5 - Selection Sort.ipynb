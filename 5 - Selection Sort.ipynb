{
 "cells": [
  {
   "cell_type": "code",
   "execution_count": 12,
   "metadata": {},
   "outputs": [],
   "source": [
    "def selection_sort(numbers):\n",
    "    \n",
    "    for i in range(len(numbers)):   \n",
    "        min_index = i\n",
    "        for j in range(i+1, len(numbers)):            \n",
    "            if numbers[min_index] > numbers[j]:                \n",
    "                min_index = j\n",
    "        \n",
    "        numbers[i], numbers[min_index] = numbers[min_index], numbers[i]\n",
    "                "
   ]
  },
  {
   "cell_type": "code",
   "execution_count": 16,
   "metadata": {},
   "outputs": [
    {
     "name": "stdout",
     "output_type": "stream",
     "text": [
      "[6, 6, 20, 45, 46, 53, 56, 73, 78, 83]\n"
     ]
    }
   ],
   "source": [
    "if __name__ == '__main__':\n",
    "    \n",
    "    import random\n",
    "    \n",
    "    numbers = [random.randint(0, 100) for i in range(10)]\n",
    "    \n",
    "    selection_sort(numbers)\n",
    "    \n",
    "    print(numbers)\n",
    "    "
   ]
  },
  {
   "cell_type": "code",
   "execution_count": null,
   "metadata": {},
   "outputs": [],
   "source": []
  }
 ],
 "metadata": {
  "kernelspec": {
   "display_name": "Python 3",
   "language": "python",
   "name": "python3"
  },
  "language_info": {
   "codemirror_mode": {
    "name": "ipython",
    "version": 3
   },
   "file_extension": ".py",
   "mimetype": "text/x-python",
   "name": "python",
   "nbconvert_exporter": "python",
   "pygments_lexer": "ipython3",
   "version": "3.7.3"
  }
 },
 "nbformat": 4,
 "nbformat_minor": 4
}
