{
 "cells": [
  {
   "cell_type": "markdown",
   "metadata": {},
   "source": [
    "<h1>The anagram problem</h1>\n",
    "<p>The problem is to find the number of characters to be moved to make the given two strings an anagram</p>"
   ]
  },
  {
   "cell_type": "code",
   "execution_count": 57,
   "metadata": {},
   "outputs": [],
   "source": [
    "# this function defines the character frequency\n",
    "def get_char_count(string):\n",
    "    \n",
    "    # list of length 26\n",
    "    freq = [0 for i in range(26)]\n",
    "    \n",
    "    # set the offset to ASCII value of character 'a'\n",
    "    offset = ord('a')\n",
    "    \n",
    "    # for every character in set of string, find the frequency of each character\n",
    "    for char in set(string):\n",
    "        code = ord(char) - offset\n",
    "        freq[code] = string.count(char)\n",
    "    \n",
    "    # return the character frequency\n",
    "    return freq"
   ]
  },
  {
   "cell_type": "code",
   "execution_count": 58,
   "metadata": {},
   "outputs": [],
   "source": [
    "# get the difference between the character count from both the strings' char_count\n",
    "def get_delta(char_count_1, char_count_2):\n",
    "    delta = 0\n",
    "    for count_1, count_2 in zip(char_count_1, char_count_2):\n",
    "        delta += abs(count_1 - count_2)\n",
    "    return delta"
   ]
  },
  {
   "cell_type": "code",
   "execution_count": 59,
   "metadata": {},
   "outputs": [
    {
     "name": "stdout",
     "output_type": "stream",
     "text": [
      "6\n"
     ]
    }
   ],
   "source": [
    "# define the namespace main to unit test your module\n",
    "if __name__ == '__main__':\n",
    "    \n",
    "    string_1 = \"HELLO\"\n",
    "    string_2 = \"billion\"\n",
    "    \n",
    "    # better to convert the characters to lowercase and get the character count for each\n",
    "    char_count_1 = get_char_count(string_1.lower())\n",
    "    char_count_2 = get_char_count(string_2.lower())\n",
    "    \n",
    "    # get the delta\n",
    "    result = get_delta(char_count_1, char_count_2)\n",
    "    \n",
    "    # print it\n",
    "    print(result)"
   ]
  }
 ],
 "metadata": {
  "kernelspec": {
   "display_name": "Python 3",
   "language": "python",
   "name": "python3"
  },
  "language_info": {
   "codemirror_mode": {
    "name": "ipython",
    "version": 3
   },
   "file_extension": ".py",
   "mimetype": "text/x-python",
   "name": "python",
   "nbconvert_exporter": "python",
   "pygments_lexer": "ipython3",
   "version": "3.7.3"
  }
 },
 "nbformat": 4,
 "nbformat_minor": 4
}
