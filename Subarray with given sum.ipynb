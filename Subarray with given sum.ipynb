{
 "cells": [
  {
   "cell_type": "markdown",
   "metadata": {},
   "source": [
    "Given an unsorted array A of size N of non-negative integers, find a continuous sub-array which adds to a given number S."
   ]
  },
  {
   "cell_type": "code",
   "execution_count": 7,
   "metadata": {},
   "outputs": [],
   "source": [
    "def solution(numbers, sum_):\n",
    "    \n",
    "    for i in range(len(numbers)):\n",
    "        int_sum = 0\n",
    "        j = i\n",
    "        start = i\n",
    "        while j<len(numbers):\n",
    "            int_sum += numbers[j]\n",
    "            j += 1\n",
    "            if int_sum == sum_:\n",
    "                end = j-1\n",
    "                return (start, end)\n",
    "            if int_sum > sum_:\n",
    "                break\n",
    "    return (-1, None)"
   ]
  },
  {
   "cell_type": "code",
   "execution_count": 9,
   "metadata": {},
   "outputs": [
    {
     "name": "stdout",
     "output_type": "stream",
     "text": [
      "3 4\n"
     ]
    }
   ],
   "source": [
    "import random\n",
    "\n",
    "numbers = [1, 2, 6, 7, 5]\n",
    "sum_ = 12\n",
    "start, end = solution(numbers, sum_)\n",
    "print(start, end)"
   ]
  },
  {
   "cell_type": "code",
   "execution_count": null,
   "metadata": {},
   "outputs": [],
   "source": []
  }
 ],
 "metadata": {
  "kernelspec": {
   "display_name": "Python 3",
   "language": "python",
   "name": "python3"
  },
  "language_info": {
   "codemirror_mode": {
    "name": "ipython",
    "version": 3
   },
   "file_extension": ".py",
   "mimetype": "text/x-python",
   "name": "python",
   "nbconvert_exporter": "python",
   "pygments_lexer": "ipython3",
   "version": "3.7.3"
  }
 },
 "nbformat": 4,
 "nbformat_minor": 4
}
