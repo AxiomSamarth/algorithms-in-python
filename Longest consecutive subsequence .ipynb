{
 "cells": [
  {
   "cell_type": "code",
   "execution_count": 4,
   "metadata": {},
   "outputs": [],
   "source": [
    "def longest_consecutive_subsequence(numbers):\n",
    "    \n",
    "    numbers = set(numbers)\n",
    "    answer = 0 \n",
    "    \n",
    "    for number in numbers:\n",
    "        \n",
    "        if number-1 not in numbers:\n",
    "            j = number\n",
    "            while j in numbers:\n",
    "                j += 1\n",
    "            \n",
    "            answer = max(answer, j-number)\n",
    "    \n",
    "    return answer"
   ]
  },
  {
   "cell_type": "code",
   "execution_count": 9,
   "metadata": {},
   "outputs": [
    {
     "name": "stdout",
     "output_type": "stream",
     "text": [
      "[6, 2, 5, 9, 1, 6, 3, 10, 6, 4]\n",
      "Length of the Longest contiguous subsequence is  6\n"
     ]
    }
   ],
   "source": [
    "if __name__ == '__main__':\n",
    "    \n",
    "    import random\n",
    "    \n",
    "    numbers = [random.randint(1, 10) for i in range(10)] \n",
    "    print(numbers)\n",
    "    \n",
    "    print(\"Length of the Longest contiguous subsequence is \", longest_consecutive_subsequence(numbers))"
   ]
  },
  {
   "cell_type": "code",
   "execution_count": null,
   "metadata": {},
   "outputs": [],
   "source": []
  }
 ],
 "metadata": {
  "kernelspec": {
   "display_name": "Python 3",
   "language": "python",
   "name": "python3"
  },
  "language_info": {
   "codemirror_mode": {
    "name": "ipython",
    "version": 3
   },
   "file_extension": ".py",
   "mimetype": "text/x-python",
   "name": "python",
   "nbconvert_exporter": "python",
   "pygments_lexer": "ipython3",
   "version": "3.7.3"
  }
 },
 "nbformat": 4,
 "nbformat_minor": 4
}
