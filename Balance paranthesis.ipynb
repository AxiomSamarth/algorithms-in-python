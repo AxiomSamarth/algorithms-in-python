{
 "cells": [
  {
   "cell_type": "code",
   "execution_count": 6,
   "metadata": {},
   "outputs": [],
   "source": [
    "def is_balanced(expression):\n",
    "    \n",
    "    # create a dictionary of opening and closing brackets that operates like a hash map\n",
    "    tokens = {'{':'}', '(':')', '[':']'}\n",
    "    \n",
    "    # create an empty stack\n",
    "    stack = list()\n",
    "    \n",
    "    # iterate through the brackets in the expression\n",
    "    for bracket in expression:\n",
    "        # for every open bracket, push it to the stack\n",
    "        if bracket in tokens.keys():\n",
    "            stack.append(bracket)\n",
    "        else:\n",
    "            # for every non opening bracket, check if the top of the stack is the opposite of it\n",
    "            c = stack.pop()\n",
    "            \n",
    "            # if not then return false\n",
    "            if bracket != tokens[c]:\n",
    "                return False\n",
    "    \n",
    "    # after iterating through all the brackets of the expression, if the stack has any brackets left the \n",
    "    # return false, else return true\n",
    "    if stack:\n",
    "        return False\n",
    "    else:\n",
    "        return True\n",
    "    "
   ]
  },
  {
   "cell_type": "code",
   "execution_count": 8,
   "metadata": {},
   "outputs": [
    {
     "data": {
      "text/plain": [
       "True"
      ]
     },
     "execution_count": 8,
     "metadata": {},
     "output_type": "execute_result"
    }
   ],
   "source": [
    "expression = '[{}{}()]'\n",
    "is_balanced(expression)"
   ]
  },
  {
   "cell_type": "code",
   "execution_count": null,
   "metadata": {},
   "outputs": [],
   "source": []
  }
 ],
 "metadata": {
  "kernelspec": {
   "display_name": "Python 3",
   "language": "python",
   "name": "python3"
  },
  "language_info": {
   "codemirror_mode": {
    "name": "ipython",
    "version": 3
   },
   "file_extension": ".py",
   "mimetype": "text/x-python",
   "name": "python",
   "nbconvert_exporter": "python",
   "pygments_lexer": "ipython3",
   "version": "3.7.3"
  }
 },
 "nbformat": 4,
 "nbformat_minor": 4
}
