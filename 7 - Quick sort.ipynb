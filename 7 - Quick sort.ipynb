{
 "cells": [
  {
   "cell_type": "markdown",
   "metadata": {},
   "source": [
    "<h1>Quick sort</h1>\n",
    "\n",
    "<p>Like Merge Sort, QuickSort is a Divide and Conquer algorithm. It picks an element as pivot and partitions the \n",
    "given array around the picked pivot. There are many different versions of quickSort that pick pivot in different \n",
    "ways.</p>\n",
    "\n",
    "\n",
    "    - Always pick first element as pivot.\n",
    "    - Always pick last element as pivot (implemented below)\n",
    "    - Pick a random element as pivot.\n",
    "    - Pick median as pivot.\n",
    "    \n",
    "\n",
    "    \n",
    "The key process in quickSort is partition(). Target of partitions is, given an array and an element x of \n",
    "array as pivot, put x at its correct position in sorted array and put all smaller elements (smaller than x) \n",
    "before x, and put all greater elements (greater than x) after x. All this should be done in linear time."
   ]
  },
  {
   "cell_type": "code",
   "execution_count": 31,
   "metadata": {},
   "outputs": [],
   "source": [
    "# define the quick sort function\n",
    "def quick_sort(numbers, low, high):\n",
    "    \n",
    "    # if lower index is smaller than high index\n",
    "    if low < high:\n",
    "        \n",
    "        # call the partition function to identify the partition index\n",
    "        pi = partition(numbers, low, high)\n",
    "        \n",
    "        # call quick sort with the list left to partition index once, followed by list to the right of partition \n",
    "        quick_sort(numbers, low, pi-1)\n",
    "        quick_sort(numbers, pi+1, high)"
   ]
  },
  {
   "cell_type": "code",
   "execution_count": 32,
   "metadata": {},
   "outputs": [],
   "source": [
    "# define the parition function that accepts lower and higher index\n",
    "def partition(numbers, low, high):\n",
    "    \n",
    "    # consider the last list item to be the pivot\n",
    "    pivot = numbers[high]\n",
    "    \n",
    "    # set i to be one less than the low\n",
    "    i = low-1\n",
    "    \n",
    "    # iterate through the list from low to high\n",
    "    for j in range(low, high):\n",
    "        \n",
    "        # if jth item is less than pivot then increment i and swap the items at ith and jth positions\n",
    "        if numbers[j] < pivot:\n",
    "            i += 1\n",
    "            numbers[i], numbers[j] = numbers[j], numbers[i]\n",
    "    \n",
    "    # swap the last element with i+1 as i+1 is the correct partition position, return i+1\n",
    "    numbers[i+1], numbers[high] = numbers[high], numbers[i+1]\n",
    "    return i+1"
   ]
  },
  {
   "cell_type": "code",
   "execution_count": 37,
   "metadata": {},
   "outputs": [
    {
     "name": "stdout",
     "output_type": "stream",
     "text": [
      "[57, 88, 65, 81, 80, 32, 69, 39, 21, 73]\n",
      "[21, 32, 39, 57, 65, 69, 73, 80, 81, 88]\n"
     ]
    }
   ],
   "source": [
    "# create the main namespace to unit test the quick sort\n",
    "if __name__ == '__main__':\n",
    "    \n",
    "    # import the modules necessary\n",
    "    import random\n",
    "    \n",
    "    # create a list of 10 items using randint method\n",
    "    numbers = [random.randint(0, 100) for i in range(10)]\n",
    "    print(numbers)\n",
    "    \n",
    "    # call the quick sort function\n",
    "    quick_sort(numbers, 0, len(numbers)-1)\n",
    "    print(numbers)"
   ]
  }
 ],
 "metadata": {
  "kernelspec": {
   "display_name": "Python 3",
   "language": "python",
   "name": "python3"
  },
  "language_info": {
   "codemirror_mode": {
    "name": "ipython",
    "version": 3
   },
   "file_extension": ".py",
   "mimetype": "text/x-python",
   "name": "python",
   "nbconvert_exporter": "python",
   "pygments_lexer": "ipython3",
   "version": "3.7.3"
  }
 },
 "nbformat": 4,
 "nbformat_minor": 4
}
