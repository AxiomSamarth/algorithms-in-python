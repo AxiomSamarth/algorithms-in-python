{
 "cells": [
  {
   "cell_type": "code",
   "execution_count": 72,
   "metadata": {},
   "outputs": [],
   "source": [
    "class LinkedList:\n",
    "    \n",
    "    class _Node:\n",
    "        \n",
    "        def __init__(self, data):\n",
    "            self._data = data\n",
    "            self._next = None\n",
    "            \n",
    "    def __init__(self):\n",
    "        self._head = None\n",
    "    \n",
    "    def _add_node(self, data):\n",
    "        new_node = self._Node(data)\n",
    "        if self._head is None:\n",
    "            self._head = new_node\n",
    "        else:\n",
    "            cursor = self._head\n",
    "            while cursor._next is not None:\n",
    "                cursor = cursor._next\n",
    "            cursor._next = new_node\n",
    "        return new_node\n",
    "        \n",
    "    def _get_node(self, data):\n",
    "        if self._head is None:\n",
    "            return None\n",
    "        cursor = self._head\n",
    "        while cursor is not None:\n",
    "            if cursor._data == data:\n",
    "                return cursor\n",
    "            cursor = cursor._next\n",
    "            \n",
    "    def _display(self):\n",
    "        if self._head is None:\n",
    "            print(\"Linked list is empty\")\n",
    "        else:\n",
    "            cursor = self._head\n",
    "            while cursor is not None:\n",
    "                print(cursor._data, end=' ')\n",
    "                cursor = cursor._next\n",
    "\n",
    "    def _is_cycled(self):\n",
    "        if self._head is None:\n",
    "            return False\n",
    "        else:\n",
    "            slow = self._head\n",
    "            fast = self._head._next\n",
    "            while slow and fast and fast._next:\n",
    "                if slow is fast:\n",
    "                    return True\n",
    "                slow = slow._next\n",
    "                fast = fast._next._next\n",
    "            return False"
   ]
  },
  {
   "cell_type": "code",
   "execution_count": 76,
   "metadata": {},
   "outputs": [
    {
     "name": "stdout",
     "output_type": "stream",
     "text": [
      "[94, 93, 72, 14, 91, 62, 12, 26, 94, 29]\n",
      "94 93 72 14 91 62 12 26 94 29 "
     ]
    }
   ],
   "source": [
    "if __name__ == '__main__':\n",
    "    \n",
    "    import random\n",
    "    \n",
    "    numbers = [random.randint(0, 100) for i in range(10)]\n",
    "    print(numbers)\n",
    "    \n",
    "    linked_list = LinkedList()\n",
    "    \n",
    "    for number in numbers:\n",
    "        last_node = linked_list._add_node(number)\n",
    "        \n",
    "    linked_list._display()"
   ]
  },
  {
   "cell_type": "code",
   "execution_count": 77,
   "metadata": {},
   "outputs": [],
   "source": [
    "    last_node._next = linked_list._get_node(numbers[5])"
   ]
  },
  {
   "cell_type": "code",
   "execution_count": 78,
   "metadata": {},
   "outputs": [
    {
     "data": {
      "text/plain": [
       "True"
      ]
     },
     "execution_count": 78,
     "metadata": {},
     "output_type": "execute_result"
    }
   ],
   "source": [
    "    linked_list._is_cycled()"
   ]
  }
 ],
 "metadata": {
  "kernelspec": {
   "display_name": "Python 3",
   "language": "python",
   "name": "python3"
  },
  "language_info": {
   "codemirror_mode": {
    "name": "ipython",
    "version": 3
   },
   "file_extension": ".py",
   "mimetype": "text/x-python",
   "name": "python",
   "nbconvert_exporter": "python",
   "pygments_lexer": "ipython3",
   "version": "3.7.3"
  }
 },
 "nbformat": 4,
 "nbformat_minor": 4
}
