{
 "cells": [
  {
   "cell_type": "markdown",
   "metadata": {},
   "source": [
    "Given an array of distinct integers. The task is to count all the triplets such that sum of two elements equals the third element."
   ]
  },
  {
   "cell_type": "code",
   "execution_count": 19,
   "metadata": {},
   "outputs": [],
   "source": [
    "from itertools import combinations\n",
    "import random"
   ]
  },
  {
   "cell_type": "code",
   "execution_count": 23,
   "metadata": {},
   "outputs": [
    {
     "name": "stdout",
     "output_type": "stream",
     "text": [
      "[31, 17, 66, 37, 90, 33, 99, 10, 37, 100]\n",
      "(66, 33) 99\n",
      "(90, 10) 100\n"
     ]
    }
   ],
   "source": [
    "numbers = [random.randint(0, 100) for i in range(10)]\n",
    "\n",
    "print(numbers)\n",
    "\n",
    "numbers_combinations = list(combinations(numbers, 2))\n",
    "sum_combinations = list(map(lambda x: x[0]+x[1], numbers_combinations))\n",
    "\n",
    "count = 0\n",
    "for index, sum_ in enumerate(sum_combinations):\n",
    "    if sum_ in numbers:\n",
    "        count += 1\n",
    "        print(numbers_combinations[index], sum_)\n"
   ]
  },
  {
   "cell_type": "code",
   "execution_count": 24,
   "metadata": {},
   "outputs": [
    {
     "name": "stdout",
     "output_type": "stream",
     "text": [
      "2\n"
     ]
    }
   ],
   "source": [
    "print(count)"
   ]
  }
 ],
 "metadata": {
  "kernelspec": {
   "display_name": "Python 3",
   "language": "python",
   "name": "python3"
  },
  "language_info": {
   "codemirror_mode": {
    "name": "ipython",
    "version": 3
   },
   "file_extension": ".py",
   "mimetype": "text/x-python",
   "name": "python",
   "nbconvert_exporter": "python",
   "pygments_lexer": "ipython3",
   "version": "3.7.3"
  }
 },
 "nbformat": 4,
 "nbformat_minor": 4
}
